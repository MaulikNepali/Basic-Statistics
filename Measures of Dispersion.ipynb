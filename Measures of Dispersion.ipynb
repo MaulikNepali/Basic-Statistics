{
 "cells": [
  {
   "cell_type": "code",
   "execution_count": 32,
   "id": "f0566794",
   "metadata": {},
   "outputs": [],
   "source": [
    "import statistics as statistics\n",
    "import pandas as pd\n",
    "import numpy as np\n",
    "import seaborn as sns"
   ]
  },
  {
   "cell_type": "code",
   "execution_count": 3,
   "id": "48087c06",
   "metadata": {},
   "outputs": [],
   "source": [
    "data1 = [45,42,42,41,40]\n",
    "data2 =[54,48,42,33,33]"
   ]
  },
  {
   "cell_type": "code",
   "execution_count": 4,
   "id": "d7ed82c5",
   "metadata": {},
   "outputs": [
    {
     "data": {
      "text/plain": [
       "True"
      ]
     },
     "execution_count": 4,
     "metadata": {},
     "output_type": "execute_result"
    }
   ],
   "source": [
    "statistics.mean(data1) == statistics.mean(data2)"
   ]
  },
  {
   "cell_type": "code",
   "execution_count": 5,
   "id": "01c6e9d7",
   "metadata": {},
   "outputs": [
    {
     "data": {
      "text/plain": [
       "3.5"
      ]
     },
     "execution_count": 5,
     "metadata": {},
     "output_type": "execute_result"
    }
   ],
   "source": [
    "statistics.variance(data1)"
   ]
  },
  {
   "cell_type": "code",
   "execution_count": 6,
   "id": "c5cd2628",
   "metadata": {},
   "outputs": [
    {
     "data": {
      "text/plain": [
       "85.5"
      ]
     },
     "execution_count": 6,
     "metadata": {},
     "output_type": "execute_result"
    }
   ],
   "source": [
    "statistics.variance(data2)"
   ]
  },
  {
   "cell_type": "code",
   "execution_count": 7,
   "id": "afd8ae15",
   "metadata": {},
   "outputs": [
    {
     "data": {
      "text/plain": [
       "8.270429251254132"
      ]
     },
     "execution_count": 7,
     "metadata": {},
     "output_type": "execute_result"
    }
   ],
   "source": [
    "statistics.pstdev(data2)"
   ]
  },
  {
   "cell_type": "code",
   "execution_count": 8,
   "id": "de95b53f",
   "metadata": {},
   "outputs": [
    {
     "data": {
      "text/plain": [
       "1.6733200530681511"
      ]
     },
     "execution_count": 8,
     "metadata": {},
     "output_type": "execute_result"
    }
   ],
   "source": [
    "statistics.pstdev(data1)"
   ]
  },
  {
   "cell_type": "code",
   "execution_count": 9,
   "id": "95336e63",
   "metadata": {},
   "outputs": [],
   "source": [
    "df = sns.load_dataset(\"mpg\")"
   ]
  },
  {
   "cell_type": "code",
   "execution_count": 11,
   "id": "7831c4f7",
   "metadata": {},
   "outputs": [],
   "source": [
    "range_mpg = df['mpg'].max() - df['mpg'].min()"
   ]
  },
  {
   "cell_type": "code",
   "execution_count": 12,
   "id": "7145e963",
   "metadata": {},
   "outputs": [
    {
     "data": {
      "text/plain": [
       "37.6"
      ]
     },
     "execution_count": 12,
     "metadata": {},
     "output_type": "execute_result"
    }
   ],
   "source": [
    "range_mpg"
   ]
  },
  {
   "cell_type": "code",
   "execution_count": 15,
   "id": "286127a2",
   "metadata": {},
   "outputs": [],
   "source": [
    "range_weight = df['weight'].max() - df['weight'].min()"
   ]
  },
  {
   "cell_type": "code",
   "execution_count": 16,
   "id": "5ee25703",
   "metadata": {},
   "outputs": [
    {
     "data": {
      "text/plain": [
       "3527"
      ]
     },
     "execution_count": 16,
     "metadata": {},
     "output_type": "execute_result"
    }
   ],
   "source": [
    "range_weight"
   ]
  },
  {
   "cell_type": "code",
   "execution_count": 17,
   "id": "b9cf0f33",
   "metadata": {},
   "outputs": [
    {
     "data": {
      "text/plain": [
       "61.0896107742744"
      ]
     },
     "execution_count": 17,
     "metadata": {},
     "output_type": "execute_result"
    }
   ],
   "source": [
    "statistics.variance(df['mpg'])"
   ]
  },
  {
   "cell_type": "code",
   "execution_count": 18,
   "id": "37c82a64",
   "metadata": {},
   "outputs": [
    {
     "data": {
      "text/plain": [
       "717140.9905256763"
      ]
     },
     "execution_count": 18,
     "metadata": {},
     "output_type": "execute_result"
    }
   ],
   "source": [
    "statistics.variance(df['weight'])"
   ]
  },
  {
   "cell_type": "code",
   "execution_count": 19,
   "id": "204576a1",
   "metadata": {},
   "outputs": [
    {
     "data": {
      "text/plain": [
       "7.806159061274432"
      ]
     },
     "execution_count": 19,
     "metadata": {},
     "output_type": "execute_result"
    }
   ],
   "source": [
    "statistics.pstdev(df['mpg'])"
   ]
  },
  {
   "cell_type": "code",
   "execution_count": 20,
   "id": "e917cac1",
   "metadata": {},
   "outputs": [
    {
     "data": {
      "text/plain": [
       "845.7772335198175"
      ]
     },
     "execution_count": 20,
     "metadata": {},
     "output_type": "execute_result"
    }
   ],
   "source": [
    "statistics.pstdev(df['weight'])"
   ]
  },
  {
   "cell_type": "code",
   "execution_count": 28,
   "id": "5b710437",
   "metadata": {},
   "outputs": [],
   "source": [
    "coeff_range_mpg = ( df['mpg'].max() - df['mpg'].min())/ (df['mpg'].max() + df['mpg'].min())"
   ]
  },
  {
   "cell_type": "code",
   "execution_count": 29,
   "id": "42e868a8",
   "metadata": {},
   "outputs": [
    {
     "data": {
      "text/plain": [
       "0.6762589928057554"
      ]
     },
     "execution_count": 29,
     "metadata": {},
     "output_type": "execute_result"
    }
   ],
   "source": [
    "coeff_range_mpg"
   ]
  },
  {
   "cell_type": "code",
   "execution_count": 30,
   "id": "990dc7de",
   "metadata": {},
   "outputs": [
    {
     "name": "stdout",
     "output_type": "stream",
     "text": [
      "0.5222863912335258\n"
     ]
    }
   ],
   "source": [
    "coeff_range_weight = ( df['weight'].max() - df['weight'].min() )/ ( df['weight'].max() + df['weight'].min() )\n",
    "print(coeff_range_weight)"
   ]
  },
  {
   "cell_type": "code",
   "execution_count": 35,
   "id": "31b6fd9b",
   "metadata": {},
   "outputs": [],
   "source": [
    "coeff_quart_dev_mpg = ( np.percentile(df['mpg'], 0.75) - np.percentile(df['mpg'], 0.25) ) / ( np.percentile(df['mpg'], 0.75) + np.percentile(df['mpg'], 0.25) )"
   ]
  },
  {
   "cell_type": "code",
   "execution_count": 36,
   "id": "3d67e455",
   "metadata": {},
   "outputs": [
    {
     "data": {
      "text/plain": [
       "0.04697186456843107"
      ]
     },
     "execution_count": 36,
     "metadata": {},
     "output_type": "execute_result"
    }
   ],
   "source": [
    "coeff_quart_dev_mpg"
   ]
  },
  {
   "cell_type": "code",
   "execution_count": 37,
   "id": "18caeb0c",
   "metadata": {},
   "outputs": [],
   "source": [
    "coeff_quart_dev_weight = ( np.percentile(df['weight'], 0.75) - np.percentile(df['weight'], 0.25) ) / ( np.percentile(df['weight'], 0.75) + np.percentile(df['weight'], 0.25) )"
   ]
  },
  {
   "cell_type": "code",
   "execution_count": 38,
   "id": "cab54c26",
   "metadata": {},
   "outputs": [
    {
     "data": {
      "text/plain": [
       "0.03261072854317037"
      ]
     },
     "execution_count": 38,
     "metadata": {},
     "output_type": "execute_result"
    }
   ],
   "source": [
    "coeff_quart_dev_weight"
   ]
  },
  {
   "cell_type": "code",
   "execution_count": 40,
   "id": "3f0d646a",
   "metadata": {},
   "outputs": [],
   "source": [
    "df['deviation of weight from mean'] = abs(df['weight'] - df['weight'].mean())"
   ]
  },
  {
   "cell_type": "code",
   "execution_count": 41,
   "id": "fdd00bc2",
   "metadata": {},
   "outputs": [],
   "source": [
    "mean_deviation = df['deviation of weight from mean'].sum()/df['deviation of weight'].size"
   ]
  },
  {
   "cell_type": "code",
   "execution_count": 42,
   "id": "049d9469",
   "metadata": {},
   "outputs": [],
   "source": [
    "coeff_mean_dev_weight = ( mean_deviation ) / ( df['weight'].mean()  )"
   ]
  },
  {
   "cell_type": "code",
   "execution_count": 43,
   "id": "8909fedb",
   "metadata": {},
   "outputs": [
    {
     "data": {
      "text/plain": [
       "0.24168987471502762"
      ]
     },
     "execution_count": 43,
     "metadata": {},
     "output_type": "execute_result"
    }
   ],
   "source": [
    "coeff_mean_dev_weight"
   ]
  },
  {
   "cell_type": "code",
   "execution_count": 45,
   "id": "f977db3b",
   "metadata": {},
   "outputs": [],
   "source": [
    "df['deviation of weight from median'] = abs(df['weight'] - df['weight'].median())"
   ]
  },
  {
   "cell_type": "code",
   "execution_count": 47,
   "id": "091cee06",
   "metadata": {},
   "outputs": [],
   "source": [
    "mean_deviation_from_median = df['deviation of weight from median'].sum()/df['deviation of weight'].size"
   ]
  },
  {
   "cell_type": "code",
   "execution_count": 48,
   "id": "7a3817d2",
   "metadata": {},
   "outputs": [],
   "source": [
    "coeff_median_deviation_weight = (mean_deviation_from_median) / df['weight'].median()"
   ]
  },
  {
   "cell_type": "code",
   "execution_count": 49,
   "id": "5b5c8c87",
   "metadata": {},
   "outputs": [
    {
     "data": {
      "text/plain": [
       "0.25252623022370635"
      ]
     },
     "execution_count": 49,
     "metadata": {},
     "output_type": "execute_result"
    }
   ],
   "source": [
    "coeff_median_deviation_weight"
   ]
  },
  {
   "cell_type": "code",
   "execution_count": 50,
   "id": "51336de0",
   "metadata": {},
   "outputs": [
    {
     "data": {
      "text/html": [
       "<div>\n",
       "<style scoped>\n",
       "    .dataframe tbody tr th:only-of-type {\n",
       "        vertical-align: middle;\n",
       "    }\n",
       "\n",
       "    .dataframe tbody tr th {\n",
       "        vertical-align: top;\n",
       "    }\n",
       "\n",
       "    .dataframe thead th {\n",
       "        text-align: right;\n",
       "    }\n",
       "</style>\n",
       "<table border=\"1\" class=\"dataframe\">\n",
       "  <thead>\n",
       "    <tr style=\"text-align: right;\">\n",
       "      <th></th>\n",
       "      <th>mpg</th>\n",
       "      <th>cylinders</th>\n",
       "      <th>displacement</th>\n",
       "      <th>horsepower</th>\n",
       "      <th>weight</th>\n",
       "      <th>acceleration</th>\n",
       "      <th>model_year</th>\n",
       "      <th>origin</th>\n",
       "      <th>name</th>\n",
       "      <th>deviation of weight</th>\n",
       "      <th>deviation of weight from median</th>\n",
       "    </tr>\n",
       "  </thead>\n",
       "  <tbody>\n",
       "    <tr>\n",
       "      <th>0</th>\n",
       "      <td>18.0</td>\n",
       "      <td>8</td>\n",
       "      <td>307.0</td>\n",
       "      <td>130.0</td>\n",
       "      <td>3504</td>\n",
       "      <td>12.0</td>\n",
       "      <td>70</td>\n",
       "      <td>usa</td>\n",
       "      <td>chevrolet chevelle malibu</td>\n",
       "      <td>700.5</td>\n",
       "      <td>700.5</td>\n",
       "    </tr>\n",
       "    <tr>\n",
       "      <th>1</th>\n",
       "      <td>15.0</td>\n",
       "      <td>8</td>\n",
       "      <td>350.0</td>\n",
       "      <td>165.0</td>\n",
       "      <td>3693</td>\n",
       "      <td>11.5</td>\n",
       "      <td>70</td>\n",
       "      <td>usa</td>\n",
       "      <td>buick skylark 320</td>\n",
       "      <td>889.5</td>\n",
       "      <td>889.5</td>\n",
       "    </tr>\n",
       "    <tr>\n",
       "      <th>2</th>\n",
       "      <td>18.0</td>\n",
       "      <td>8</td>\n",
       "      <td>318.0</td>\n",
       "      <td>150.0</td>\n",
       "      <td>3436</td>\n",
       "      <td>11.0</td>\n",
       "      <td>70</td>\n",
       "      <td>usa</td>\n",
       "      <td>plymouth satellite</td>\n",
       "      <td>632.5</td>\n",
       "      <td>632.5</td>\n",
       "    </tr>\n",
       "    <tr>\n",
       "      <th>3</th>\n",
       "      <td>16.0</td>\n",
       "      <td>8</td>\n",
       "      <td>304.0</td>\n",
       "      <td>150.0</td>\n",
       "      <td>3433</td>\n",
       "      <td>12.0</td>\n",
       "      <td>70</td>\n",
       "      <td>usa</td>\n",
       "      <td>amc rebel sst</td>\n",
       "      <td>629.5</td>\n",
       "      <td>629.5</td>\n",
       "    </tr>\n",
       "    <tr>\n",
       "      <th>4</th>\n",
       "      <td>17.0</td>\n",
       "      <td>8</td>\n",
       "      <td>302.0</td>\n",
       "      <td>140.0</td>\n",
       "      <td>3449</td>\n",
       "      <td>10.5</td>\n",
       "      <td>70</td>\n",
       "      <td>usa</td>\n",
       "      <td>ford torino</td>\n",
       "      <td>645.5</td>\n",
       "      <td>645.5</td>\n",
       "    </tr>\n",
       "    <tr>\n",
       "      <th>...</th>\n",
       "      <td>...</td>\n",
       "      <td>...</td>\n",
       "      <td>...</td>\n",
       "      <td>...</td>\n",
       "      <td>...</td>\n",
       "      <td>...</td>\n",
       "      <td>...</td>\n",
       "      <td>...</td>\n",
       "      <td>...</td>\n",
       "      <td>...</td>\n",
       "      <td>...</td>\n",
       "    </tr>\n",
       "    <tr>\n",
       "      <th>393</th>\n",
       "      <td>27.0</td>\n",
       "      <td>4</td>\n",
       "      <td>140.0</td>\n",
       "      <td>86.0</td>\n",
       "      <td>2790</td>\n",
       "      <td>15.6</td>\n",
       "      <td>82</td>\n",
       "      <td>usa</td>\n",
       "      <td>ford mustang gl</td>\n",
       "      <td>13.5</td>\n",
       "      <td>13.5</td>\n",
       "    </tr>\n",
       "    <tr>\n",
       "      <th>394</th>\n",
       "      <td>44.0</td>\n",
       "      <td>4</td>\n",
       "      <td>97.0</td>\n",
       "      <td>52.0</td>\n",
       "      <td>2130</td>\n",
       "      <td>24.6</td>\n",
       "      <td>82</td>\n",
       "      <td>europe</td>\n",
       "      <td>vw pickup</td>\n",
       "      <td>673.5</td>\n",
       "      <td>673.5</td>\n",
       "    </tr>\n",
       "    <tr>\n",
       "      <th>395</th>\n",
       "      <td>32.0</td>\n",
       "      <td>4</td>\n",
       "      <td>135.0</td>\n",
       "      <td>84.0</td>\n",
       "      <td>2295</td>\n",
       "      <td>11.6</td>\n",
       "      <td>82</td>\n",
       "      <td>usa</td>\n",
       "      <td>dodge rampage</td>\n",
       "      <td>508.5</td>\n",
       "      <td>508.5</td>\n",
       "    </tr>\n",
       "    <tr>\n",
       "      <th>396</th>\n",
       "      <td>28.0</td>\n",
       "      <td>4</td>\n",
       "      <td>120.0</td>\n",
       "      <td>79.0</td>\n",
       "      <td>2625</td>\n",
       "      <td>18.6</td>\n",
       "      <td>82</td>\n",
       "      <td>usa</td>\n",
       "      <td>ford ranger</td>\n",
       "      <td>178.5</td>\n",
       "      <td>178.5</td>\n",
       "    </tr>\n",
       "    <tr>\n",
       "      <th>397</th>\n",
       "      <td>31.0</td>\n",
       "      <td>4</td>\n",
       "      <td>119.0</td>\n",
       "      <td>82.0</td>\n",
       "      <td>2720</td>\n",
       "      <td>19.4</td>\n",
       "      <td>82</td>\n",
       "      <td>usa</td>\n",
       "      <td>chevy s-10</td>\n",
       "      <td>83.5</td>\n",
       "      <td>83.5</td>\n",
       "    </tr>\n",
       "  </tbody>\n",
       "</table>\n",
       "<p>398 rows × 11 columns</p>\n",
       "</div>"
      ],
      "text/plain": [
       "      mpg  cylinders  displacement  horsepower  weight  acceleration  \\\n",
       "0    18.0          8         307.0       130.0    3504          12.0   \n",
       "1    15.0          8         350.0       165.0    3693          11.5   \n",
       "2    18.0          8         318.0       150.0    3436          11.0   \n",
       "3    16.0          8         304.0       150.0    3433          12.0   \n",
       "4    17.0          8         302.0       140.0    3449          10.5   \n",
       "..    ...        ...           ...         ...     ...           ...   \n",
       "393  27.0          4         140.0        86.0    2790          15.6   \n",
       "394  44.0          4          97.0        52.0    2130          24.6   \n",
       "395  32.0          4         135.0        84.0    2295          11.6   \n",
       "396  28.0          4         120.0        79.0    2625          18.6   \n",
       "397  31.0          4         119.0        82.0    2720          19.4   \n",
       "\n",
       "     model_year  origin                       name  deviation of weight  \\\n",
       "0            70     usa  chevrolet chevelle malibu                700.5   \n",
       "1            70     usa          buick skylark 320                889.5   \n",
       "2            70     usa         plymouth satellite                632.5   \n",
       "3            70     usa              amc rebel sst                629.5   \n",
       "4            70     usa                ford torino                645.5   \n",
       "..          ...     ...                        ...                  ...   \n",
       "393          82     usa            ford mustang gl                 13.5   \n",
       "394          82  europe                  vw pickup                673.5   \n",
       "395          82     usa              dodge rampage                508.5   \n",
       "396          82     usa                ford ranger                178.5   \n",
       "397          82     usa                 chevy s-10                 83.5   \n",
       "\n",
       "     deviation of weight from median  \n",
       "0                              700.5  \n",
       "1                              889.5  \n",
       "2                              632.5  \n",
       "3                              629.5  \n",
       "4                              645.5  \n",
       "..                               ...  \n",
       "393                             13.5  \n",
       "394                            673.5  \n",
       "395                            508.5  \n",
       "396                            178.5  \n",
       "397                             83.5  \n",
       "\n",
       "[398 rows x 11 columns]"
      ]
     },
     "execution_count": 50,
     "metadata": {},
     "output_type": "execute_result"
    }
   ],
   "source": [
    "df"
   ]
  },
  {
   "cell_type": "code",
   "execution_count": null,
   "id": "90a9cff1",
   "metadata": {},
   "outputs": [],
   "source": []
  }
 ],
 "metadata": {
  "kernelspec": {
   "display_name": "Python 3 (ipykernel)",
   "language": "python",
   "name": "python3"
  },
  "language_info": {
   "codemirror_mode": {
    "name": "ipython",
    "version": 3
   },
   "file_extension": ".py",
   "mimetype": "text/x-python",
   "name": "python",
   "nbconvert_exporter": "python",
   "pygments_lexer": "ipython3",
   "version": "3.11.5"
  }
 },
 "nbformat": 4,
 "nbformat_minor": 5
}
