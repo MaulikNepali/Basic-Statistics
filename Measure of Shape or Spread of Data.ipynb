{
 "cells": [
  {
   "cell_type": "code",
   "execution_count": 1,
   "id": "fd2a1413",
   "metadata": {},
   "outputs": [],
   "source": [
    "import pandas as pd\n",
    "import seaborn as sns"
   ]
  },
  {
   "cell_type": "code",
   "execution_count": 2,
   "id": "1b60e7d5",
   "metadata": {},
   "outputs": [],
   "source": [
    "df = sns.load_dataset('mpg')"
   ]
  },
  {
   "cell_type": "code",
   "execution_count": 4,
   "id": "2a5e1ff7",
   "metadata": {},
   "outputs": [
    {
     "data": {
      "text/plain": [
       "0.5310625125994629"
      ]
     },
     "execution_count": 4,
     "metadata": {},
     "output_type": "execute_result"
    }
   ],
   "source": [
    "df['weight'].skew() # coeff of skewness of df['weight']"
   ]
  },
  {
   "cell_type": "code",
   "execution_count": 5,
   "id": "1e1b2055",
   "metadata": {},
   "outputs": [
    {
     "data": {
      "text/plain": [
       "0.7196451643005952"
      ]
     },
     "execution_count": 5,
     "metadata": {},
     "output_type": "execute_result"
    }
   ],
   "source": [
    "df['displacement'].skew() # coeff of skewness of df['displacement']"
   ]
  },
  {
   "cell_type": "code",
   "execution_count": 6,
   "id": "d460a99c",
   "metadata": {},
   "outputs": [
    {
     "data": {
      "text/plain": [
       "1.0873262824048695"
      ]
     },
     "execution_count": 6,
     "metadata": {},
     "output_type": "execute_result"
    }
   ],
   "source": [
    "df['horsepower'].skew()"
   ]
  },
  {
   "cell_type": "code",
   "execution_count": 15,
   "id": "93b298a9",
   "metadata": {},
   "outputs": [],
   "source": [
    "df['horsepower_new'] = df['horsepower'] ** (1/3)"
   ]
  },
  {
   "cell_type": "code",
   "execution_count": 16,
   "id": "1057a8dc",
   "metadata": {},
   "outputs": [
    {
     "data": {
      "text/plain": [
       "0.6132504951168221"
      ]
     },
     "execution_count": 16,
     "metadata": {},
     "output_type": "execute_result"
    }
   ],
   "source": [
    "df['horsepower_new'].skew()"
   ]
  },
  {
   "cell_type": "code",
   "execution_count": 17,
   "id": "f80a303c",
   "metadata": {},
   "outputs": [
    {
     "data": {
      "text/plain": [
       "0.696946999742821"
      ]
     },
     "execution_count": 17,
     "metadata": {},
     "output_type": "execute_result"
    }
   ],
   "source": [
    "df['horsepower'].kurtosis()"
   ]
  },
  {
   "cell_type": "code",
   "execution_count": 18,
   "id": "2952d4bb",
   "metadata": {},
   "outputs": [
    {
     "data": {
      "text/plain": [
       "-0.21111775880885641"
      ]
     },
     "execution_count": 18,
     "metadata": {},
     "output_type": "execute_result"
    }
   ],
   "source": [
    "df['horsepower_new'].kurtosis()"
   ]
  },
  {
   "cell_type": "code",
   "execution_count": null,
   "id": "acb07fb6",
   "metadata": {},
   "outputs": [],
   "source": []
  }
 ],
 "metadata": {
  "kernelspec": {
   "display_name": "Python 3 (ipykernel)",
   "language": "python",
   "name": "python3"
  },
  "language_info": {
   "codemirror_mode": {
    "name": "ipython",
    "version": 3
   },
   "file_extension": ".py",
   "mimetype": "text/x-python",
   "name": "python",
   "nbconvert_exporter": "python",
   "pygments_lexer": "ipython3",
   "version": "3.11.5"
  }
 },
 "nbformat": 4,
 "nbformat_minor": 5
}
